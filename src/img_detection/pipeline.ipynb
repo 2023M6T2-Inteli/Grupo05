{
 "cells": [
  {
   "cell_type": "code",
   "execution_count": 9,
   "metadata": {},
   "outputs": [],
   "source": [
    "import cv2 as cv\n",
    "from ultralytics import YOLO"
   ]
  },
  {
   "cell_type": "code",
   "execution_count": 10,
   "metadata": {},
   "outputs": [],
   "source": [
    "model = YOLO('./model.pt')"
   ]
  },
  {
   "cell_type": "code",
   "execution_count": 11,
   "metadata": {},
   "outputs": [],
   "source": [
    "cap = cv.VideoCapture(0)"
   ]
  },
  {
   "cell_type": "code",
   "execution_count": null,
   "metadata": {},
   "outputs": [],
   "source": [
    "# Verificar se a câmera foi aberta com sucesso\n",
    "if not cap.isOpened():\n",
    "    print(\"Falha ao abrir a câmera\")\n",
    "    exit()\n",
    "\n",
    "fourcc = cv.VideoWriter_fourcc(*'XVID')\n",
    "out = cv.VideoWriter('output.mp4', fourcc, 30.0, (640, 480))  # Ajustar a resolução (largura, altura) conforme necessário\n",
    "\n",
    "# Iniciar a captura e salvamento do vídeo\n",
    "while True:\n",
    "    # Ler o frame da câmera\n",
    "    ret, frame = cap.read()\n",
    "    result = model.predict(frame, conf=0.6)\n",
    "\n",
    "    if ret:\n",
    "        # Desenhar os resultados no frame\n",
    "        frame_resultados = result[0].plot()\n",
    "        cv.imshow(\"Resultados\", frame_resultados)\n",
    "\n",
    "        # Gravar o frame com resultados no arquivo de vídeo\n",
    "        out.write(frame_resultados)\n",
    "\n",
    "        # Verificar se a tecla 'q' foi pressionada para encerrar o programa\n",
    "        if cv.waitKey(1) == ord('q'):\n",
    "            break\n",
    "    else:\n",
    "        break\n",
    "\n",
    "# Liberar os recursos\n",
    "cap.release()\n",
    "out.release()\n",
    "cv.destroyAllWindows()\n"
   ]
  },
  {
   "cell_type": "code",
   "execution_count": null,
   "metadata": {},
   "outputs": [],
   "source": []
  }
 ],
 "metadata": {
  "kernelspec": {
   "display_name": "Python 3",
   "language": "python",
   "name": "python3"
  },
  "language_info": {
   "codemirror_mode": {
    "name": "ipython",
    "version": 3
   },
   "file_extension": ".py",
   "mimetype": "text/x-python",
   "name": "python",
   "nbconvert_exporter": "python",
   "pygments_lexer": "ipython3",
   "version": "3.11.3"
  },
  "orig_nbformat": 4
 },
 "nbformat": 4,
 "nbformat_minor": 2
}
